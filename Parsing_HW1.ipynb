{
 "cells": [
  {
   "cell_type": "markdown",
   "id": "bebffa63",
   "metadata": {},
   "source": [
    "1. Посмотреть документацию к API GitHub, разобраться как вывести список репозиториев для конкретного пользователя, сохранить JSON-вывод в файле *.json.\n"
   ]
  },
  {
   "cell_type": "code",
   "execution_count": 6,
   "id": "19dfacc6",
   "metadata": {},
   "outputs": [],
   "source": [
    "import requests\n",
    "import json\n",
    "from pprint import pprint"
   ]
  },
  {
   "cell_type": "code",
   "execution_count": 11,
   "id": "e2175cb7",
   "metadata": {},
   "outputs": [
    {
     "name": "stdout",
     "output_type": "stream",
     "text": [
      "[{'allow_forking': True,\n",
      "  'archive_url': 'https://api.github.com/repos/Ganskaia/project/{archive_format}{/ref}',\n",
      "  'archived': False,\n",
      "  'assignees_url': 'https://api.github.com/repos/Ganskaia/project/assignees{/user}',\n",
      "  'blobs_url': 'https://api.github.com/repos/Ganskaia/project/git/blobs{/sha}',\n",
      "  'branches_url': 'https://api.github.com/repos/Ganskaia/project/branches{/branch}',\n",
      "  'clone_url': 'https://github.com/Ganskaia/project.git',\n",
      "  'collaborators_url': 'https://api.github.com/repos/Ganskaia/project/collaborators{/collaborator}',\n",
      "  'comments_url': 'https://api.github.com/repos/Ganskaia/project/comments{/number}',\n",
      "  'commits_url': 'https://api.github.com/repos/Ganskaia/project/commits{/sha}',\n",
      "  'compare_url': 'https://api.github.com/repos/Ganskaia/project/compare/{base}...{head}',\n",
      "  'contents_url': 'https://api.github.com/repos/Ganskaia/project/contents/{+path}',\n",
      "  'contributors_url': 'https://api.github.com/repos/Ganskaia/project/contributors',\n",
      "  'created_at': '2022-11-15T10:04:32Z',\n",
      "  'default_branch': 'main',\n",
      "  'deployments_url': 'https://api.github.com/repos/Ganskaia/project/deployments',\n",
      "  'description': 'first project',\n",
      "  'disabled': False,\n",
      "  'downloads_url': 'https://api.github.com/repos/Ganskaia/project/downloads',\n",
      "  'events_url': 'https://api.github.com/repos/Ganskaia/project/events',\n",
      "  'fork': False,\n",
      "  'forks': 0,\n",
      "  'forks_count': 0,\n",
      "  'forks_url': 'https://api.github.com/repos/Ganskaia/project/forks',\n",
      "  'full_name': 'Ganskaia/project',\n",
      "  'git_commits_url': 'https://api.github.com/repos/Ganskaia/project/git/commits{/sha}',\n",
      "  'git_refs_url': 'https://api.github.com/repos/Ganskaia/project/git/refs{/sha}',\n",
      "  'git_tags_url': 'https://api.github.com/repos/Ganskaia/project/git/tags{/sha}',\n",
      "  'git_url': 'git://github.com/Ganskaia/project.git',\n",
      "  'has_discussions': False,\n",
      "  'has_downloads': True,\n",
      "  'has_issues': True,\n",
      "  'has_pages': False,\n",
      "  'has_projects': True,\n",
      "  'has_wiki': True,\n",
      "  'homepage': None,\n",
      "  'hooks_url': 'https://api.github.com/repos/Ganskaia/project/hooks',\n",
      "  'html_url': 'https://github.com/Ganskaia/project',\n",
      "  'id': 566264755,\n",
      "  'is_template': False,\n",
      "  'issue_comment_url': 'https://api.github.com/repos/Ganskaia/project/issues/comments{/number}',\n",
      "  'issue_events_url': 'https://api.github.com/repos/Ganskaia/project/issues/events{/number}',\n",
      "  'issues_url': 'https://api.github.com/repos/Ganskaia/project/issues{/number}',\n",
      "  'keys_url': 'https://api.github.com/repos/Ganskaia/project/keys{/key_id}',\n",
      "  'labels_url': 'https://api.github.com/repos/Ganskaia/project/labels{/name}',\n",
      "  'language': None,\n",
      "  'languages_url': 'https://api.github.com/repos/Ganskaia/project/languages',\n",
      "  'license': None,\n",
      "  'merges_url': 'https://api.github.com/repos/Ganskaia/project/merges',\n",
      "  'milestones_url': 'https://api.github.com/repos/Ganskaia/project/milestones{/number}',\n",
      "  'mirror_url': None,\n",
      "  'name': 'project',\n",
      "  'node_id': 'R_kgDOIcCDsw',\n",
      "  'notifications_url': 'https://api.github.com/repos/Ganskaia/project/notifications{?since,all,participating}',\n",
      "  'open_issues': 0,\n",
      "  'open_issues_count': 0,\n",
      "  'owner': {'avatar_url': 'https://avatars.githubusercontent.com/u/106591738?v=4',\n",
      "            'events_url': 'https://api.github.com/users/Ganskaia/events{/privacy}',\n",
      "            'followers_url': 'https://api.github.com/users/Ganskaia/followers',\n",
      "            'following_url': 'https://api.github.com/users/Ganskaia/following{/other_user}',\n",
      "            'gists_url': 'https://api.github.com/users/Ganskaia/gists{/gist_id}',\n",
      "            'gravatar_id': '',\n",
      "            'html_url': 'https://github.com/Ganskaia',\n",
      "            'id': 106591738,\n",
      "            'login': 'Ganskaia',\n",
      "            'node_id': 'U_kgDOBlp1-g',\n",
      "            'organizations_url': 'https://api.github.com/users/Ganskaia/orgs',\n",
      "            'received_events_url': 'https://api.github.com/users/Ganskaia/received_events',\n",
      "            'repos_url': 'https://api.github.com/users/Ganskaia/repos',\n",
      "            'site_admin': False,\n",
      "            'starred_url': 'https://api.github.com/users/Ganskaia/starred{/owner}{/repo}',\n",
      "            'subscriptions_url': 'https://api.github.com/users/Ganskaia/subscriptions',\n",
      "            'type': 'User',\n",
      "            'url': 'https://api.github.com/users/Ganskaia'},\n",
      "  'private': False,\n",
      "  'pulls_url': 'https://api.github.com/repos/Ganskaia/project/pulls{/number}',\n",
      "  'pushed_at': '2022-12-17T23:04:20Z',\n",
      "  'releases_url': 'https://api.github.com/repos/Ganskaia/project/releases{/id}',\n",
      "  'size': 331,\n",
      "  'ssh_url': 'git@github.com:Ganskaia/project.git',\n",
      "  'stargazers_count': 0,\n",
      "  'stargazers_url': 'https://api.github.com/repos/Ganskaia/project/stargazers',\n",
      "  'statuses_url': 'https://api.github.com/repos/Ganskaia/project/statuses/{sha}',\n",
      "  'subscribers_url': 'https://api.github.com/repos/Ganskaia/project/subscribers',\n",
      "  'subscription_url': 'https://api.github.com/repos/Ganskaia/project/subscription',\n",
      "  'svn_url': 'https://github.com/Ganskaia/project',\n",
      "  'tags_url': 'https://api.github.com/repos/Ganskaia/project/tags',\n",
      "  'teams_url': 'https://api.github.com/repos/Ganskaia/project/teams',\n",
      "  'topics': [],\n",
      "  'trees_url': 'https://api.github.com/repos/Ganskaia/project/git/trees{/sha}',\n",
      "  'updated_at': '2022-11-15T10:04:32Z',\n",
      "  'url': 'https://api.github.com/repos/Ganskaia/project',\n",
      "  'visibility': 'public',\n",
      "  'watchers': 0,\n",
      "  'watchers_count': 0,\n",
      "  'web_commit_signoff_required': False},\n",
      " {'allow_forking': True,\n",
      "  'archive_url': 'https://api.github.com/repos/Ganskaia/repo-github/{archive_format}{/ref}',\n",
      "  'archived': False,\n",
      "  'assignees_url': 'https://api.github.com/repos/Ganskaia/repo-github/assignees{/user}',\n",
      "  'blobs_url': 'https://api.github.com/repos/Ganskaia/repo-github/git/blobs{/sha}',\n",
      "  'branches_url': 'https://api.github.com/repos/Ganskaia/repo-github/branches{/branch}',\n",
      "  'clone_url': 'https://github.com/Ganskaia/repo-github.git',\n",
      "  'collaborators_url': 'https://api.github.com/repos/Ganskaia/repo-github/collaborators{/collaborator}',\n",
      "  'comments_url': 'https://api.github.com/repos/Ganskaia/repo-github/comments{/number}',\n",
      "  'commits_url': 'https://api.github.com/repos/Ganskaia/repo-github/commits{/sha}',\n",
      "  'compare_url': 'https://api.github.com/repos/Ganskaia/repo-github/compare/{base}...{head}',\n",
      "  'contents_url': 'https://api.github.com/repos/Ganskaia/repo-github/contents/{+path}',\n",
      "  'contributors_url': 'https://api.github.com/repos/Ganskaia/repo-github/contributors',\n",
      "  'created_at': '2022-05-31T14:59:58Z',\n",
      "  'default_branch': 'main',\n",
      "  'deployments_url': 'https://api.github.com/repos/Ganskaia/repo-github/deployments',\n",
      "  'description': None,\n",
      "  'disabled': False,\n",
      "  'downloads_url': 'https://api.github.com/repos/Ganskaia/repo-github/downloads',\n",
      "  'events_url': 'https://api.github.com/repos/Ganskaia/repo-github/events',\n",
      "  'fork': False,\n",
      "  'forks': 0,\n",
      "  'forks_count': 0,\n",
      "  'forks_url': 'https://api.github.com/repos/Ganskaia/repo-github/forks',\n",
      "  'full_name': 'Ganskaia/repo-github',\n",
      "  'git_commits_url': 'https://api.github.com/repos/Ganskaia/repo-github/git/commits{/sha}',\n",
      "  'git_refs_url': 'https://api.github.com/repos/Ganskaia/repo-github/git/refs{/sha}',\n",
      "  'git_tags_url': 'https://api.github.com/repos/Ganskaia/repo-github/git/tags{/sha}',\n",
      "  'git_url': 'git://github.com/Ganskaia/repo-github.git',\n",
      "  'has_discussions': False,\n",
      "  'has_downloads': True,\n",
      "  'has_issues': True,\n",
      "  'has_pages': False,\n",
      "  'has_projects': True,\n",
      "  'has_wiki': True,\n",
      "  'homepage': None,\n",
      "  'hooks_url': 'https://api.github.com/repos/Ganskaia/repo-github/hooks',\n",
      "  'html_url': 'https://github.com/Ganskaia/repo-github',\n",
      "  'id': 498382693,\n",
      "  'is_template': False,\n",
      "  'issue_comment_url': 'https://api.github.com/repos/Ganskaia/repo-github/issues/comments{/number}',\n",
      "  'issue_events_url': 'https://api.github.com/repos/Ganskaia/repo-github/issues/events{/number}',\n",
      "  'issues_url': 'https://api.github.com/repos/Ganskaia/repo-github/issues{/number}',\n",
      "  'keys_url': 'https://api.github.com/repos/Ganskaia/repo-github/keys{/key_id}',\n",
      "  'labels_url': 'https://api.github.com/repos/Ganskaia/repo-github/labels{/name}',\n",
      "  'language': 'Jupyter Notebook',\n",
      "  'languages_url': 'https://api.github.com/repos/Ganskaia/repo-github/languages',\n",
      "  'license': None,\n",
      "  'merges_url': 'https://api.github.com/repos/Ganskaia/repo-github/merges',\n",
      "  'milestones_url': 'https://api.github.com/repos/Ganskaia/repo-github/milestones{/number}',\n",
      "  'mirror_url': None,\n",
      "  'name': 'repo-github',\n",
      "  'node_id': 'R_kgDOHbS3ZQ',\n",
      "  'notifications_url': 'https://api.github.com/repos/Ganskaia/repo-github/notifications{?since,all,participating}',\n",
      "  'open_issues': 0,\n",
      "  'open_issues_count': 0,\n",
      "  'owner': {'avatar_url': 'https://avatars.githubusercontent.com/u/106591738?v=4',\n",
      "            'events_url': 'https://api.github.com/users/Ganskaia/events{/privacy}',\n",
      "            'followers_url': 'https://api.github.com/users/Ganskaia/followers',\n",
      "            'following_url': 'https://api.github.com/users/Ganskaia/following{/other_user}',\n",
      "            'gists_url': 'https://api.github.com/users/Ganskaia/gists{/gist_id}',\n",
      "            'gravatar_id': '',\n",
      "            'html_url': 'https://github.com/Ganskaia',\n",
      "            'id': 106591738,\n",
      "            'login': 'Ganskaia',\n",
      "            'node_id': 'U_kgDOBlp1-g',\n",
      "            'organizations_url': 'https://api.github.com/users/Ganskaia/orgs',\n",
      "            'received_events_url': 'https://api.github.com/users/Ganskaia/received_events',\n",
      "            'repos_url': 'https://api.github.com/users/Ganskaia/repos',\n",
      "            'site_admin': False,\n",
      "            'starred_url': 'https://api.github.com/users/Ganskaia/starred{/owner}{/repo}',\n",
      "            'subscriptions_url': 'https://api.github.com/users/Ganskaia/subscriptions',\n",
      "            'type': 'User',\n",
      "            'url': 'https://api.github.com/users/Ganskaia'},\n",
      "  'private': False,\n",
      "  'pulls_url': 'https://api.github.com/repos/Ganskaia/repo-github/pulls{/number}',\n",
      "  'pushed_at': '2022-10-22T14:48:56Z',\n",
      "  'releases_url': 'https://api.github.com/repos/Ganskaia/repo-github/releases{/id}',\n",
      "  'size': 4,\n",
      "  'ssh_url': 'git@github.com:Ganskaia/repo-github.git',\n",
      "  'stargazers_count': 0,\n",
      "  'stargazers_url': 'https://api.github.com/repos/Ganskaia/repo-github/stargazers',\n",
      "  'statuses_url': 'https://api.github.com/repos/Ganskaia/repo-github/statuses/{sha}',\n",
      "  'subscribers_url': 'https://api.github.com/repos/Ganskaia/repo-github/subscribers',\n",
      "  'subscription_url': 'https://api.github.com/repos/Ganskaia/repo-github/subscription',\n",
      "  'svn_url': 'https://github.com/Ganskaia/repo-github',\n",
      "  'tags_url': 'https://api.github.com/repos/Ganskaia/repo-github/tags',\n",
      "  'teams_url': 'https://api.github.com/repos/Ganskaia/repo-github/teams',\n",
      "  'topics': [],\n",
      "  'trees_url': 'https://api.github.com/repos/Ganskaia/repo-github/git/trees{/sha}',\n",
      "  'updated_at': '2022-10-22T14:52:06Z',\n",
      "  'url': 'https://api.github.com/repos/Ganskaia/repo-github',\n",
      "  'visibility': 'public',\n",
      "  'watchers': 0,\n",
      "  'watchers_count': 0,\n",
      "  'web_commit_signoff_required': False}]\n"
     ]
    }
   ],
   "source": [
    "appid = 'X-GitHub-Api-Version: 2022-11-28'\n",
    "url = 'https://api.github.com'\n",
    "user = 'Ganskaia'\n",
    "req = requests.get(f'{url}/users/{user}/repos')\n",
    "pprint(req.json())"
   ]
  },
  {
   "cell_type": "code",
   "execution_count": 8,
   "id": "d041075e",
   "metadata": {},
   "outputs": [],
   "source": [
    "with open('data.json', 'w') as f:\n",
    "    json.dump(req.json(), f)"
   ]
  },
  {
   "cell_type": "code",
   "execution_count": 10,
   "id": "0bc2a370",
   "metadata": {},
   "outputs": [
    {
     "name": "stdout",
     "output_type": "stream",
     "text": [
      "project\n",
      "repo-github\n"
     ]
    }
   ],
   "source": [
    "for i in req.json():\n",
    "    print(i['name'])"
   ]
  },
  {
   "cell_type": "markdown",
   "id": "f4221357",
   "metadata": {},
   "source": [
    "2. Изучить список открытых API (https://www.programmableweb.com/category/all/apis). Найти среди них любое, требующее авторизацию (любого типа). Выполнить запросы к нему, пройдя авторизацию. Ответ сервера записать в файл.\n",
    "\n",
    "Если нет желания заморачиваться с поиском, возьмите API вконтакте (https://vk.com/dev/first_guide). Сделайте запрос, чтобы получить список всех сообществ на которые вы подписаны."
   ]
  },
  {
   "cell_type": "code",
   "execution_count": 4,
   "id": "4f134c68",
   "metadata": {},
   "outputs": [
    {
     "name": "stdout",
     "output_type": "stream",
     "text": [
      "Collecting vk\n",
      "  Downloading vk-3.0-py3-none-any.whl (11 kB)\n",
      "Requirement already satisfied: requests~=2.24 in c:\\users\\alisa\\anaconda3\\lib\\site-packages (from vk) (2.27.1)\n",
      "Requirement already satisfied: certifi>=2017.4.17 in c:\\users\\alisa\\anaconda3\\lib\\site-packages (from requests~=2.24->vk) (2021.10.8)\n",
      "Requirement already satisfied: charset-normalizer~=2.0.0 in c:\\users\\alisa\\anaconda3\\lib\\site-packages (from requests~=2.24->vk) (2.0.4)\n",
      "Requirement already satisfied: urllib3<1.27,>=1.21.1 in c:\\users\\alisa\\anaconda3\\lib\\site-packages (from requests~=2.24->vk) (1.26.9)\n",
      "Requirement already satisfied: idna<4,>=2.5 in c:\\users\\alisa\\anaconda3\\lib\\site-packages (from requests~=2.24->vk) (3.3)\n",
      "Installing collected packages: vk\n",
      "Successfully installed vk-3.0\n",
      "Note: you may need to restart the kernel to use updated packages.\n"
     ]
    }
   ],
   "source": [
    "pip install vk"
   ]
  },
  {
   "cell_type": "code",
   "execution_count": 1,
   "id": "a49dbfd8",
   "metadata": {},
   "outputs": [],
   "source": [
    "import vk"
   ]
  },
  {
   "cell_type": "code",
   "execution_count": 2,
   "id": "9ac378fa",
   "metadata": {},
   "outputs": [],
   "source": [
    "url = 'https://vk.com/'\n",
    "token = 'МОЙ ТОКЕН'"
   ]
  },
  {
   "cell_type": "code",
   "execution_count": 14,
   "id": "d55e992d",
   "metadata": {},
   "outputs": [
    {
     "name": "stdout",
     "output_type": "stream",
     "text": [
      "{'count': 15, 'items': [175570044, 53964046, 36184135, 53605513, 60114472, 44750782, 28673372, 133518022, 252591, 48865720, 167152841, 47678342, 49264946, 40299646, 52307200]}\n"
     ]
    }
   ],
   "source": [
    "api = vk.API(access_token='МОЙ ТОКЕН', v='5.81')\n",
    "f = api.groups.get(user_id=493012, v=5.81)\n",
    "print(f)\n"
   ]
  },
  {
   "cell_type": "code",
   "execution_count": 10,
   "id": "2fd3dca7",
   "metadata": {},
   "outputs": [],
   "source": [
    "import json"
   ]
  },
  {
   "cell_type": "code",
   "execution_count": 11,
   "id": "52fed74a",
   "metadata": {},
   "outputs": [],
   "source": [
    "with open('my_groups_id.json', 'w') as file:\n",
    "    json.dump(f, file)"
   ]
  },
  {
   "cell_type": "markdown",
   "id": "c1d4a841",
   "metadata": {},
   "source": [
    "У меня получилось спарсить только 15 груп, да, это мои группы, но не все. 15 шт., которые удалось спарсить это те группы у которых id в адресной строке такой: адрес сообщества — https://vk.com/publicXXXXXX или https://vk.com/clubXXXXXX, где XXXXXX — ID страницы."
   ]
  },
  {
   "cell_type": "markdown",
   "id": "060c8254",
   "metadata": {},
   "source": [
    "Если профилю или сообществу присвоен буквенно-цифровой адрес, то они не парсятся. В чем хитрость я не поняла."
   ]
  },
  {
   "cell_type": "code",
   "execution_count": null,
   "id": "aca9a572",
   "metadata": {},
   "outputs": [],
   "source": []
  }
 ],
 "metadata": {
  "kernelspec": {
   "display_name": "Python 3 (ipykernel)",
   "language": "python",
   "name": "python3"
  },
  "language_info": {
   "codemirror_mode": {
    "name": "ipython",
    "version": 3
   },
   "file_extension": ".py",
   "mimetype": "text/x-python",
   "name": "python",
   "nbconvert_exporter": "python",
   "pygments_lexer": "ipython3",
   "version": "3.9.12"
  }
 },
 "nbformat": 4,
 "nbformat_minor": 5
}
